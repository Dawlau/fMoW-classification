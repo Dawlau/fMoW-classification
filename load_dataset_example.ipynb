{
 "cells": [
  {
   "cell_type": "code",
   "execution_count": 1,
   "metadata": {},
   "outputs": [],
   "source": [
    "from wilds import get_dataset\n",
    "from wilds.common.data_loaders import get_train_loader\n",
    "from wilds.common.grouper import CombinatorialGrouper\n",
    "import torchvision.transforms as transforms\n",
    "import torch"
   ]
  },
  {
   "cell_type": "code",
   "execution_count": null,
   "metadata": {},
   "outputs": [],
   "source": [
    "# download dataset\n",
    "dataset = get_dataset(dataset=\"fmow\", download=True)"
   ]
  },
  {
   "cell_type": "code",
   "execution_count": 2,
   "metadata": {},
   "outputs": [
    {
     "name": "stdout",
     "output_type": "stream",
     "text": [
      "['region', 'year', 'y', 'from_source_domain']\n",
      "tensor([0, 1, 1, 0, 0, 1, 1, 3, 3, 1, 1, 0, 1, 1, 0, 1])\n"
     ]
    }
   ],
   "source": [
    "# load dataset\n",
    "dataset = get_dataset(dataset=\"fmow\", download=False)\n",
    "print(dataset.metadata_fields)\n",
    "# Get the training set\n",
    "train_data = dataset.get_subset(\n",
    "    \"id_val\",\n",
    "    transform=transforms.Compose(\n",
    "        [transforms.ToTensor()]\n",
    "    ),\n",
    ")\n",
    "\n",
    "train_loader = get_train_loader(\"standard\", train_data, batch_size=16)\n",
    "grouper = CombinatorialGrouper(dataset, ['region'])\n",
    "\n",
    "all_regions = torch.tensor([])\n",
    "for i, batch in enumerate(train_loader):\n",
    "    x, y, metadata = batch\n",
    "\n",
    "    z = grouper.metadata_to_group(metadata)\n",
    "    print(z)\n",
    "    break\n",
    "    # all_regions = torch.concat([all_regions, z])\n",
    "\n",
    "    # all_regions = torch.unique(all_regions)\n",
    "    # print(all_regions)\n"
   ]
  },
  {
   "cell_type": "code",
   "execution_count": null,
   "metadata": {},
   "outputs": [],
   "source": [
    "import pandas as pd\n",
    "\n",
    "# analyze metadata\n",
    "\n",
    "df = pd.read_csv(\"data/fmow_v1.1/country_code_mapping.csv\")\n",
    "print(df.columns)\n",
    "print(pd.unique(df[\"region\"]))\n"
   ]
  }
 ],
 "metadata": {
  "interpreter": {
   "hash": "ff1607acb86e9c06c30b27f75fb57134555e2c7e307c575a25fc991546615253"
  },
  "kernelspec": {
   "display_name": "Python 3.9.7 ('fmow')",
   "language": "python",
   "name": "python3"
  },
  "language_info": {
   "codemirror_mode": {
    "name": "ipython",
    "version": 3
   },
   "file_extension": ".py",
   "mimetype": "text/x-python",
   "name": "python",
   "nbconvert_exporter": "python",
   "pygments_lexer": "ipython3",
   "version": "3.9.7"
  },
  "orig_nbformat": 4
 },
 "nbformat": 4,
 "nbformat_minor": 2
}
