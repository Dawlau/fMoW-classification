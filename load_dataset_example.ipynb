{
 "cells": [
  {
   "cell_type": "code",
   "execution_count": 6,
   "metadata": {},
   "outputs": [],
   "source": [
    "from wilds import get_dataset\n",
    "from wilds.common.data_loaders import get_train_loader\n",
    "from wilds.common.grouper import CombinatorialGrouper\n",
    "import torchvision.transforms as transforms\n",
    "import torch\n",
    "from SubsampledDataset import SubsampledDataset"
   ]
  },
  {
   "cell_type": "code",
   "execution_count": 7,
   "metadata": {},
   "outputs": [],
   "source": [
    "# load dataset\n",
    "dataset = get_dataset(dataset=\"fmow\", download=False)\n",
    "grouper = CombinatorialGrouper(dataset, [\"region\"])\n",
    "\n",
    "# Get the id val set\n",
    "id_val_data = dataset.get_subset(\n",
    "    \"id_val\",\n",
    "    transform=transforms.Compose(\n",
    "        [transforms.ToTensor()]\n",
    "    ),\n",
    ")\n",
    "\n",
    "id_val_dataset = SubsampledDataset(id_val_data, grouper)\n",
    "\n",
    "BATCH_SIZE = 32\n",
    "id_val_loader = get_train_loader(\"standard\", id_val_dataset, batch_size=BATCH_SIZE)\n",
    "\n",
    "for i, batch in enumerate(id_val_loader):\n",
    "    x, y, metadata = batch\n",
    "    break"
   ]
  },
  {
   "cell_type": "code",
   "execution_count": 10,
   "metadata": {},
   "outputs": [
    {
     "name": "stdout",
     "output_type": "stream",
     "text": [
      "torch.Size([32, 3, 224, 224])\n"
     ]
    }
   ],
   "source": [
    "for x, y, metadata in id_val_loader:\n",
    "\tprint(x.shape)\n",
    "\tbreak"
   ]
  }
 ],
 "metadata": {
  "interpreter": {
   "hash": "ff1607acb86e9c06c30b27f75fb57134555e2c7e307c575a25fc991546615253"
  },
  "kernelspec": {
   "display_name": "Python 3.9.7 ('fmow')",
   "language": "python",
   "name": "python3"
  },
  "language_info": {
   "codemirror_mode": {
    "name": "ipython",
    "version": 3
   },
   "file_extension": ".py",
   "mimetype": "text/x-python",
   "name": "python",
   "nbconvert_exporter": "python",
   "pygments_lexer": "ipython3",
   "version": "3.9.7"
  },
  "orig_nbformat": 4
 },
 "nbformat": 4,
 "nbformat_minor": 2
}
