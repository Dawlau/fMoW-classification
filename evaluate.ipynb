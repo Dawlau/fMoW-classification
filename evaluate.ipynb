{
 "cells": [
  {
   "cell_type": "code",
   "execution_count": 5,
   "metadata": {},
   "outputs": [
    {
     "name": "stdout",
     "output_type": "stream",
     "text": [
      "cuda\n"
     ]
    }
   ],
   "source": [
    "from wilds import get_dataset\n",
    "from wilds.common.data_loaders import get_eval_loader\n",
    "from wilds.common.grouper import CombinatorialGrouper\n",
    "import torchvision.transforms as transforms\n",
    "import torch\n",
    "# import torch.nn as nn\n",
    "# from tqdm import tqdm\n",
    "from erm_helpers import val_step, build_metrics_dict\n",
    "# import sys\n",
    "# import os\n",
    "# import time\n",
    "from Classifier import Classifier\n",
    "from SubsampledDataset import SubsampledDataset, NUM_CLASSES\n",
    "\n",
    "\n",
    "device = \"cuda\" if torch.cuda.is_available() else \"cpu\"\n",
    "print(device)\n",
    "BATCH_SIZE = 16"
   ]
  },
  {
   "cell_type": "code",
   "execution_count": 3,
   "metadata": {},
   "outputs": [],
   "source": [
    "dataset = get_dataset(dataset=\"fmow\", download=False)\n",
    "grouper = CombinatorialGrouper(dataset, [\"region\"])\n",
    "\n",
    "\n",
    "ood_val_data = dataset.get_subset(\n",
    "    \"val\",\n",
    "    transform=transforms.Compose(\n",
    "        [transforms.ToTensor()]\n",
    "    ),\n",
    ")\n",
    "\n",
    "id_val_data = dataset.get_subset(\n",
    "    \"id_val\",\n",
    "    transform=transforms.Compose(\n",
    "        [transforms.ToTensor()]\n",
    "    ),\n",
    ")\n",
    "\n",
    "ood_val_dataset = SubsampledDataset(ood_val_data, grouper)\n",
    "id_val_dataset = SubsampledDataset(id_val_data, grouper)\n",
    "\n",
    "ood_val_loader   = get_eval_loader(\"standard\", ood_val_dataset, batch_size=BATCH_SIZE)\n",
    "id_val_loader    = get_eval_loader(\"standard\", id_val_dataset, batch_size=BATCH_SIZE)"
   ]
  },
  {
   "cell_type": "code",
   "execution_count": 14,
   "metadata": {},
   "outputs": [],
   "source": [
    "def eval_model(model, loss_fn):\n",
    "  # ood val\n",
    "  y_true, y_pred, metadata, loss = val_step(model, ood_val_loader, loss_fn, device)\n",
    "  ood_metrics_dict = build_metrics_dict(dataset, y_true, y_pred, metadata, loss)\n",
    "\n",
    "  # id val\n",
    "  y_true, y_pred, metadata, loss = val_step(model, id_val_loader, loss_fn, device)\n",
    "  id_metrics_dict = build_metrics_dict(dataset, y_true, y_pred, metadata, loss)\n",
    "\n",
    "  print('ood validation')\n",
    "  print(', '.join([f'{key} - {value:.8f}' for (key, value) in ood_metrics_dict.items()]))\n",
    "  print('id validation')\n",
    "  print(', '.join([f'{key} - {value:.8f}' for (key, value) in id_metrics_dict.items()]))"
   ]
  },
  {
   "cell_type": "code",
   "execution_count": 7,
   "metadata": {},
   "outputs": [],
   "source": [
    "model = Classifier(NUM_CLASSES)\n",
    "model = model.to(device)"
   ]
  },
  {
   "cell_type": "code",
   "execution_count": 15,
   "metadata": {},
   "outputs": [
    {
     "name": "stdout",
     "output_type": "stream",
     "text": [
      "ERM\n"
     ]
    },
    {
     "name": "stderr",
     "output_type": "stream",
     "text": [
      "100%|██████████| 363/363 [00:33<00:00, 10.70it/s]\n",
      "100%|██████████| 209/209 [00:18<00:00, 11.15it/s]\n"
     ]
    },
    {
     "name": "stdout",
     "output_type": "stream",
     "text": [
      "ood validation\n",
      "acc_region:Europe - 0.59820282, acc_region:Americas - 0.49238202, loss - 1.40786018\n",
      "id validation\n",
      "acc_region:Europe - 0.52923834, acc_region:Americas - 0.55657494, loss - 1.40919449\n",
      "ERM with pretrained Unet\n"
     ]
    },
    {
     "name": "stderr",
     "output_type": "stream",
     "text": [
      "100%|██████████| 363/363 [00:30<00:00, 11.84it/s]\n",
      "100%|██████████| 209/209 [00:18<00:00, 11.48it/s]"
     ]
    },
    {
     "name": "stdout",
     "output_type": "stream",
     "text": [
      "ood validation\n",
      "acc_region:Europe - 0.57445443, acc_region:Americas - 0.46302488, loss - 1.79384711\n",
      "id validation\n",
      "acc_region:Europe - 0.51744473, acc_region:Americas - 0.49770641, loss - 1.84223977\n"
     ]
    },
    {
     "name": "stderr",
     "output_type": "stream",
     "text": [
      "\n"
     ]
    }
   ],
   "source": [
    "model = torch.load(\"models/ERM_10_15_SGD_0.0001_0.9_CrossEntropy.pth\")\n",
    "print('\\nERM')\n",
    "eval_model(model, loss_fn=torch.nn.CrossEntropyLoss())\n",
    "\n",
    "model = torch.load(\"models/ERM_10_10_SGD_0.0001_0.9_CrossEntropy_pretrained_unet.pth\")\n",
    "print('\\nERM with pretrained Unet')\n",
    "eval_model(model, loss_fn=torch.nn.CrossEntropyLoss())\n"
   ]
  }
 ],
 "metadata": {
  "interpreter": {
   "hash": "73c87dafa7146a096cc053519b6ccd33206e7e527963fd5fe3aa900595d699a1"
  },
  "kernelspec": {
   "display_name": "Python 3.8.10 ('venv')",
   "language": "python",
   "name": "python3"
  },
  "language_info": {
   "codemirror_mode": {
    "name": "ipython",
    "version": 3
   },
   "file_extension": ".py",
   "mimetype": "text/x-python",
   "name": "python",
   "nbconvert_exporter": "python",
   "pygments_lexer": "ipython3",
   "version": "3.8.10"
  },
  "orig_nbformat": 4
 },
 "nbformat": 4,
 "nbformat_minor": 2
}
