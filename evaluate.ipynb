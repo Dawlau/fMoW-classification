{
 "cells": [
  {
   "cell_type": "code",
   "execution_count": 15,
   "metadata": {},
   "outputs": [
    {
     "name": "stdout",
     "output_type": "stream",
     "text": [
      "cuda\n"
     ]
    }
   ],
   "source": [
    "from wilds import get_dataset\n",
    "from wilds.common.data_loaders import get_eval_loader\n",
    "from wilds.common.grouper import CombinatorialGrouper\n",
    "import torchvision.transforms as transforms\n",
    "import torch\n",
    "import matplotlib.pyplot as plt\n",
    "import numpy as np\n",
    "\n",
    "from erm_helpers import val_step, build_metrics_dict\n",
    "from Classifier import Classifier\n",
    "from SubsampledDataset import SubsampledDataset, NUM_CLASSES\n",
    "\n",
    "\n",
    "device = \"cuda\" if torch.cuda.is_available() else \"cpu\"\n",
    "print(device)\n",
    "BATCH_SIZE = 16"
   ]
  },
  {
   "cell_type": "code",
   "execution_count": 2,
   "metadata": {},
   "outputs": [],
   "source": [
    "dataset = get_dataset(dataset=\"fmow\", download=False)\n",
    "grouper = CombinatorialGrouper(dataset, [\"region\"])\n",
    "\n",
    "\n",
    "ood_val_data = dataset.get_subset(\n",
    "    \"val\",\n",
    "    transform=transforms.Compose(\n",
    "        [transforms.ToTensor()]\n",
    "    ),\n",
    ")\n",
    "\n",
    "id_val_data = dataset.get_subset(\n",
    "    \"id_val\",\n",
    "    transform=transforms.Compose(\n",
    "        [transforms.ToTensor()]\n",
    "    ),\n",
    ")\n",
    "\n",
    "ood_val_dataset = SubsampledDataset(ood_val_data, grouper)\n",
    "id_val_dataset = SubsampledDataset(id_val_data, grouper)\n",
    "\n",
    "ood_val_loader   = get_eval_loader(\"standard\", ood_val_dataset, batch_size=BATCH_SIZE)\n",
    "id_val_loader    = get_eval_loader(\"standard\", id_val_dataset, batch_size=BATCH_SIZE)"
   ]
  },
  {
   "cell_type": "code",
   "execution_count": 4,
   "metadata": {},
   "outputs": [],
   "source": [
    "torch.save(ood_val_dataset, 'subsampled_data/ood_val_dataset.pth')\n",
    "torch.save(id_val_dataset, 'subsampled_data/id_val_dataset.pth')"
   ]
  },
  {
   "cell_type": "code",
   "execution_count": null,
   "metadata": {},
   "outputs": [],
   "source": [
    "ood_val_dataset = torch.load('subsampled_data/ood_val_dataset.pth')\n",
    "id_val_dataset = torch.load('subsampled_data/id_val_dataset.pth')\n",
    "\n",
    "ood_val_loader   = get_eval_loader(\"standard\", ood_val_dataset, batch_size=BATCH_SIZE)\n",
    "id_val_loader    = get_eval_loader(\"standard\", id_val_dataset, batch_size=BATCH_SIZE)"
   ]
  },
  {
   "cell_type": "code",
   "execution_count": 11,
   "metadata": {},
   "outputs": [],
   "source": [
    "def eval_model(model, loss_fn):\n",
    "  # ood val\n",
    "  y_true, y_pred, metadata, loss = val_step(model, ood_val_loader, loss_fn, device)\n",
    "  ood_metrics_dict = build_metrics_dict(dataset, y_true, y_pred, metadata, loss)\n",
    "\n",
    "  # id val\n",
    "  y_true, y_pred, metadata, loss = val_step(model, id_val_loader, loss_fn, device)\n",
    "  id_metrics_dict = build_metrics_dict(dataset, y_true, y_pred, metadata, loss)\n",
    "  \n",
    "  return ood_metrics_dict, id_metrics_dict"
   ]
  },
  {
   "cell_type": "code",
   "execution_count": 13,
   "metadata": {},
   "outputs": [
    {
     "name": "stderr",
     "output_type": "stream",
     "text": [
      "100%|██████████| 363/363 [00:29<00:00, 12.37it/s]\n",
      "100%|██████████| 209/209 [00:17<00:00, 12.09it/s]\n",
      "100%|██████████| 363/363 [00:29<00:00, 12.35it/s]\n",
      "100%|██████████| 209/209 [00:16<00:00, 12.41it/s]\n"
     ]
    }
   ],
   "source": [
    "results = []\n",
    "\n",
    "model = torch.load(\"models/ERM_10_15_SGD_0.0001_0.9_CrossEntropy.pth\").to(device)\n",
    "results.append((\n",
    "  'ERM',\n",
    "  eval_model(model, loss_fn=torch.nn.CrossEntropyLoss())\n",
    "))\n",
    "\n",
    "model = torch.load(\"models/ERM_10_15_SGD_0.0001_0.9_CrossEntropy_unet_frozen.pth\").to(device)\n",
    "results.append((\n",
    "  'ERM with frozen pretrained Unet',\n",
    "  eval_model(model, loss_fn=torch.nn.CrossEntropyLoss())\n",
    "))\n",
    "\n",
    "model = torch.load(\"models/IRM_10_30_SGD_0.0001_0.9_CrossEntropy.pth\").to(device)\n",
    "results.append((\n",
    "  'IRM',\n",
    "  eval_model(model, loss_fn=torch.nn.CrossEntropyLoss())\n",
    "))\n",
    "\n",
    "model = torch.load(\"models/IRM_10_30_SGD_0.0001_0.9_CrossEntropy_unet_frozen.pth\").to(device)\n",
    "results.append((\n",
    "  'IRM with frozen pretrained Unet',\n",
    "  eval_model(model, loss_fn=torch.nn.CrossEntropyLoss())\n",
    "))"
   ]
  },
  {
   "cell_type": "code",
   "execution_count": 14,
   "metadata": {},
   "outputs": [
    {
     "name": "stdout",
     "output_type": "stream",
     "text": [
      "ERM\n",
      "ood validation\n",
      "acc_region:Europe - 0.59820282, acc_region:Americas - 0.49238202, loss - 1.40786018\n",
      "id validation\n",
      "acc_region:Europe - 0.52923834, acc_region:Americas - 0.55657494, loss - 1.40919449\n",
      "\n",
      "ERM with frozen pretrained Unet\n",
      "ood validation\n",
      "acc_region:Europe - 0.51668805, acc_region:Americas - 0.38907468, loss - 1.52543815\n",
      "id validation\n",
      "acc_region:Europe - 0.43194103, acc_region:Americas - 0.41284403, loss - 1.61892450\n",
      "\n",
      "IRM\n",
      "ood validation\n",
      "acc_region:Europe - 0.55712450, acc_region:Americas - 0.42920849, loss - 1.52021113\n",
      "id validation\n",
      "acc_region:Europe - 0.47518426, acc_region:Americas - 0.47247708, loss - 1.58496735\n",
      "\n",
      "IRM with frozen pretrained Unet\n",
      "ood validation\n",
      "acc_region:Europe - 0.49005136, acc_region:Americas - 0.31363806, loss - 1.70733761\n",
      "id validation\n",
      "acc_region:Europe - 0.36805898, acc_region:Americas - 0.35779816, loss - 1.83268237\n",
      "\n"
     ]
    }
   ],
   "source": [
    "for name, metrics in results:\n",
    "  print(name)\n",
    "  print('ood validation')\n",
    "  print(', '.join([f'{key} - {value:.8f}' for (key, value) in metrics[0].items()]))\n",
    "  print('id validation')\n",
    "  print(', '.join([f'{key} - {value:.8f}' for (key, value) in metrics[1].items()]))\n",
    "  print()"
   ]
  },
  {
   "cell_type": "code",
   "execution_count": 59,
   "metadata": {},
   "outputs": [
    {
     "data": {
      "image/png": "[encoded data removed]",
      "text/plain": [
       "<Figure size 432x288 with 1 Axes>"
      ]
     },
     "metadata": {
      "needs_background": "light"
     },
     "output_type": "display_data"
    }
   ],
   "source": [
    "accuracies = np.array([list(x[1][0].values())[:2] for x in results]).T\n",
    "\n",
    "X = np.arange(4)\n",
    "fig = plt.figure()\n",
    "ax = fig.add_axes([0, 0, 1, 1])\n",
    "ax.bar(X - 0.15, accuracies[0], color = 'b', width = 0.3)\n",
    "ax.bar(X + 0.15, accuracies[1], color = 'g', width = 0.3)\n",
    "ax.set_ylabel('Accuracies')\n",
    "ax.set_xticks(X, [x[0] for x in results])\n",
    "ax.legend(labels=list(results[0][1][0].keys())[:2])\n",
    "plt.show()"
   ]
  }
 ],
 "metadata": {
  "interpreter": {
   "hash": "73c87dafa7146a096cc053519b6ccd33206e7e527963fd5fe3aa900595d699a1"
  },
  "kernelspec": {
   "display_name": "Python 3.8.10 ('venv')",
   "language": "python",
   "name": "python3"
  },
  "language_info": {
   "codemirror_mode": {
    "name": "ipython",
    "version": 3
   },
   "file_extension": ".py",
   "mimetype": "text/x-python",
   "name": "python",
   "nbconvert_exporter": "python",
   "pygments_lexer": "ipython3",
   "version": "3.8.10"
  },
  "orig_nbformat": 4
 },
 "nbformat": 4,
 "nbformat_minor": 2
}
