{
 "cells": [
  {
   "cell_type": "code",
   "execution_count": 2,
   "metadata": {},
   "outputs": [],
   "source": [
    "from wilds import get_dataset\n",
    "from wilds.common.data_loaders import get_train_loader\n",
    "from wilds.common.grouper import CombinatorialGrouper\n",
    "import torchvision.transforms as transforms\n",
    "import torch\n",
    "\n",
    "import sys\n",
    "import os\n",
    "sys.path.append(os.path.join(\"..\", \"helpers\"))\n",
    "\n",
    "from SubsampledDataset import SubsampledDataset\n",
    "from collections import Counter"
   ]
  },
  {
   "cell_type": "code",
   "execution_count": 3,
   "metadata": {},
   "outputs": [],
   "source": [
    "# load dataset\n",
    "dataset = get_dataset(dataset=\"fmow\", download=False)\n",
    "grouper = CombinatorialGrouper(dataset, [\"region\"])\n",
    "\n",
    "# Get the id val set\n",
    "ood_train_data = dataset.get_subset(\n",
    "    \"train\",\n",
    "    transform=transforms.Compose(\n",
    "        [transforms.ToTensor()]\n",
    "    ),\n",
    ")\n",
    "\n",
    "# id_val_dataset = SubsampledDataset(id_val_data, grouper)\n",
    "\n",
    "# BATCH_SIZE = 32\n",
    "# id_val_loader = get_train_loader(\"standard\", id_val_dataset, batch_size=BATCH_SIZE)\n",
    "\n",
    "# for i, batch in enumerate(id_val_loader):\n",
    "#     x, y, metadata = batch\n",
    "#     break"
   ]
  },
  {
   "cell_type": "code",
   "execution_count": 4,
   "metadata": {},
   "outputs": [],
   "source": [
    "counter = Counter(y.item() for x, y, metadata in ood_train_data)"
   ]
  },
  {
   "cell_type": "code",
   "execution_count": 5,
   "metadata": {},
   "outputs": [
    {
     "data": {
      "text/plain": [
       "[(42, 6314), (11, 4783), (36, 4404)]"
      ]
     },
     "execution_count": 5,
     "metadata": {},
     "output_type": "execute_result"
    }
   ],
   "source": [
    "counter.most_common(3)\n"
   ]
  }
 ],
 "metadata": {
  "interpreter": {
   "hash": "9088b351a5a617a459921d0866f072b197f5cdce1d55c463114270062702b24c"
  },
  "kernelspec": {
   "display_name": "Python 3.10.4 ('wilds')",
   "language": "python",
   "name": "python3"
  },
  "language_info": {
   "codemirror_mode": {
    "name": "ipython",
    "version": 3
   },
   "file_extension": ".py",
   "mimetype": "text/x-python",
   "name": "python",
   "nbconvert_exporter": "python",
   "pygments_lexer": "ipython3",
   "version": "3.10.4"
  },
  "orig_nbformat": 4
 },
 "nbformat": 4,
 "nbformat_minor": 2
}
