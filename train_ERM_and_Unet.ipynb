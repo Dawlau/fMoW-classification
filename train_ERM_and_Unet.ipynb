{
 "cells": [
  {
   "cell_type": "code",
   "execution_count": 1,
   "metadata": {},
   "outputs": [],
   "source": [
    "%load_ext autoreload\n",
    "%autoreload 2"
   ]
  },
  {
   "cell_type": "code",
   "execution_count": 2,
   "metadata": {},
   "outputs": [
    {
     "name": "stdout",
     "output_type": "stream",
     "text": [
      "cuda\n"
     ]
    }
   ],
   "source": [
    "import sys\n",
    "import os\n",
    "\n",
    "from wilds import get_dataset\n",
    "from wilds.common.data_loaders import get_train_loader\n",
    "from wilds.common.grouper import CombinatorialGrouper\n",
    "import torchvision.transforms as transforms\n",
    "import torch\n",
    "import torch.nn as nn\n",
    "from tqdm import tqdm\n",
    "import numpy as np\n",
    "\n",
    "from erm_helpers import *\n",
    "from Classifier import Classifier\n",
    "from SubsampledDataset import SubsampledDataset, NUM_CLASSES\n",
    "\n",
    "\n",
    "device = \"cuda\" if torch.cuda.is_available() else \"cpu\"\n",
    "print(device)\n",
    "# device = \"cpu\"\n",
    "BATCH_SIZE = 8"
   ]
  },
  {
   "cell_type": "markdown",
   "metadata": {},
   "source": [
    "<font size=\"6\">Load train and validation data</font>"
   ]
  },
  {
   "cell_type": "code",
   "execution_count": 2,
   "metadata": {},
   "outputs": [],
   "source": [
    "dataset = get_dataset(dataset=\"fmow\", download=False)\n",
    "grouper = CombinatorialGrouper(dataset, [\"region\"])\n",
    "\n",
    "train_data = dataset.get_subset(\n",
    "\t\t\"train\",\n",
    "\t  transform=transforms.Compose(\n",
    "        [transforms.ToTensor()]\n",
    "    ),\n",
    ")\n",
    "\n",
    "ood_val_data = dataset.get_subset(\n",
    "    \"val\",\n",
    "    transform=transforms.Compose(\n",
    "        [transforms.ToTensor()]\n",
    "    ),\n",
    ")\n",
    "\n",
    "id_val_data = dataset.get_subset(\n",
    "    \"id_val\",\n",
    "    transform=transforms.Compose(\n",
    "        [transforms.ToTensor()]\n",
    "    ),\n",
    ")\n",
    "\n",
    "train_dataset = SubsampledDataset(train_data, grouper)\n",
    "ood_val_dataset = SubsampledDataset(ood_val_data, grouper)\n",
    "id_val_dataset = SubsampledDataset(id_val_data, grouper)\n",
    "\n",
    "train_loader = get_train_loader(\"standard\", train_dataset, batch_size=BATCH_SIZE)\n",
    "ood_val_loader = get_train_loader(\"standard\", ood_val_dataset, batch_size=BATCH_SIZE)\n",
    "id_val_loader = get_train_loader(\"standard\", id_val_dataset, batch_size=BATCH_SIZE)"
   ]
  },
  {
   "cell_type": "code",
   "execution_count": 3,
   "metadata": {},
   "outputs": [],
   "source": [
    "torch.save(train_dataset, 'subsampled_data/train_dataset.pth')\n",
    "torch.save(ood_val_dataset, 'subsampled_data/ood_val_dataset.pth')\n",
    "torch.save(id_val_dataset, 'subsampled_data/id_val_dataset.pth')"
   ]
  },
  {
   "cell_type": "code",
   "execution_count": 4,
   "metadata": {},
   "outputs": [],
   "source": [
    "dataset = get_dataset(dataset=\"fmow\", download=False)\n",
    "\n",
    "train_dataset = torch.load('subsampled_data/train_dataset.pth')\n",
    "ood_val_dataset = torch.load('subsampled_data/ood_val_dataset.pth')\n",
    "id_val_dataset = torch.load('subsampled_data/id_val_dataset.pth')\n",
    "\n",
    "train_loader = get_train_loader(\"standard\", train_dataset, batch_size=BATCH_SIZE)\n",
    "ood_val_loader   = get_train_loader(\"standard\", ood_val_dataset, batch_size=BATCH_SIZE)\n",
    "id_val_loader    = get_train_loader(\"standard\", id_val_dataset, batch_size=BATCH_SIZE)"
   ]
  },
  {
   "cell_type": "markdown",
   "metadata": {},
   "source": [
    "<font size=\"6\">Train and accumulate evaluation per epoch</font>"
   ]
  },
  {
   "cell_type": "code",
   "execution_count": 15,
   "metadata": {},
   "outputs": [
    {
     "name": "stderr",
     "output_type": "stream",
     "text": [
      "100%|██████████| 1452/1452 [00:00<00:00, 2251434.16it/s]\n"
     ]
    }
   ],
   "source": [
    "for _ in tqdm(range(2*min(len(train_loader), len(ood_val_loader)))):\n",
    "  pass"
   ]
  },
  {
   "cell_type": "code",
   "execution_count": 7,
   "metadata": {},
   "outputs": [
    {
     "name": "stderr",
     "output_type": "stream",
     "text": [
      "100%|██████████| 10/10 [00:00<00:00, 221920.85it/s]\n"
     ]
    }
   ],
   "source": [
    "for _ in tqdm(range(10)):\n",
    "  pass"
   ]
  },
  {
   "cell_type": "code",
   "execution_count": 18,
   "metadata": {},
   "outputs": [],
   "source": [
    "def train_epoch(model, data_loader, loss_fn, optimizer, device, unet_loader, unet_loss_fn, unet_optimizer):\n",
    "  model.train()\n",
    "\n",
    "  accumulated_y_true = torch.tensor([]).to(device)\n",
    "  accumulated_y_pred = torch.tensor([]).to(device)\n",
    "  accumulated_metadata = torch.tensor([]).to(device)\n",
    "  loss_value = 0\n",
    "\n",
    "  loader_iter = iter(data_loader)\n",
    "  unet_iter = iter(unet_loader)\n",
    "  for i in tqdm(range(2*min(len(data_loader), len(unet_loader)))):\n",
    "    if i % 2:\n",
    "      x, y, metadata = next(loader_iter)\n",
    "      x = x.to(device)\n",
    "      y = y.to(device)\n",
    "      metadata = metadata.to(device)\n",
    "\n",
    "      model.zero_grad()\n",
    "\n",
    "      y_pred = model(x)\n",
    "      loss = loss_fn(y_pred, y)\n",
    "      loss.backward()\n",
    "      optimizer.step()\n",
    "      y_pred = torch.argmax(y_pred, dim=-1)\n",
    "\n",
    "      accumulated_y_true = torch.concat(\n",
    "        [accumulated_y_true, torch.flatten(y)], dim=0\n",
    "      )\n",
    "      accumulated_y_pred = torch.concat(\n",
    "        [accumulated_y_pred, torch.flatten(y_pred)], dim=0\n",
    "      )\n",
    "      accumulated_metadata = torch.concat(\n",
    "        [accumulated_metadata, metadata], dim=0\n",
    "      )\n",
    "      loss_value += loss.item()\n",
    "    else:\n",
    "      x, _, _ = next(unet_iter) # ignore labels and metadata\n",
    "      x = x.to(device)\n",
    "      model.zero_grad()\n",
    "      # train unet\n",
    "      x_pred = model.unet(x)\n",
    "          \n",
    "      loss = unet_loss_fn(x_pred, x)\n",
    "\n",
    "      # Backward pass\n",
    "      loss.backward()\n",
    "      unet_optimizer.step()\n",
    "\n",
    "\n",
    "  accumulated_y_true = accumulated_y_true.cpu()\n",
    "  accumulated_y_pred = accumulated_y_pred.cpu()\n",
    "  accumulated_metadata = accumulated_metadata.cpu()\n",
    "  loss_value = loss_value / len(data_loader)\n",
    "\n",
    "  return accumulated_y_true, accumulated_y_pred, accumulated_metadata, loss_value"
   ]
  },
  {
   "cell_type": "code",
   "execution_count": 12,
   "metadata": {},
   "outputs": [],
   "source": [
    "def unet_train(model, device, dataloader, loss_fn, optimizer):\n",
    "    model.train()\n",
    "\n",
    "    train_loss = []\n",
    "    for image_batch, _, _ in tqdm(dataloader): # ignore labels and metadata\n",
    "        image_batch = image_batch.to(device)\n",
    "\n",
    "        model.zero_grad()\n",
    "\n",
    "        out = model(image_batch)\n",
    "        \n",
    "        loss = loss_fn(out, image_batch)\n",
    "\n",
    "        # Backward pass\n",
    "        loss.backward()\n",
    "        optimizer.step()\n",
    "        \n",
    "        train_loss.append(loss.detach().cpu().numpy())\n",
    "\n",
    "    return np.mean(train_loss)"
   ]
  },
  {
   "cell_type": "code",
   "execution_count": 26,
   "metadata": {},
   "outputs": [
    {
     "name": "stdout",
     "output_type": "stream",
     "text": [
      "EPOCH 1:\n"
     ]
    },
    {
     "name": "stderr",
     "output_type": "stream",
     "text": [
      "100%|██████████| 1452/1452 [03:52<00:00,  6.24it/s]\n"
     ]
    },
    {
     "name": "stdout",
     "output_type": "stream",
     "text": [
      "Train Loss: 0.6294344095013095\n"
     ]
    },
    {
     "name": "stderr",
     "output_type": "stream",
     "text": [
      "100%|██████████| 726/726 [00:33<00:00, 21.83it/s]\n"
     ]
    },
    {
     "name": "stdout",
     "output_type": "stream",
     "text": [
      "OOD Loss: 4.321208353829121\n"
     ]
    },
    {
     "name": "stderr",
     "output_type": "stream",
     "text": [
      "100%|██████████| 418/418 [00:19<00:00, 21.01it/s]\n"
     ]
    },
    {
     "name": "stdout",
     "output_type": "stream",
     "text": [
      "ID Loss: 4.512221115235792\n",
      "EPOCH 2:\n"
     ]
    },
    {
     "name": "stderr",
     "output_type": "stream",
     "text": [
      "100%|██████████| 1452/1452 [03:55<00:00,  6.17it/s]\n"
     ]
    },
    {
     "name": "stdout",
     "output_type": "stream",
     "text": [
      "Train Loss: 0.5690336226403215\n"
     ]
    },
    {
     "name": "stderr",
     "output_type": "stream",
     "text": [
      "100%|██████████| 726/726 [00:33<00:00, 21.98it/s]\n"
     ]
    },
    {
     "name": "stdout",
     "output_type": "stream",
     "text": [
      "OOD Loss: 3.9503317933847755\n"
     ]
    },
    {
     "name": "stderr",
     "output_type": "stream",
     "text": [
      "100%|██████████| 418/418 [00:20<00:00, 20.83it/s]\n"
     ]
    },
    {
     "name": "stdout",
     "output_type": "stream",
     "text": [
      "ID Loss: 4.186654778544983\n",
      "EPOCH 3:\n"
     ]
    },
    {
     "name": "stderr",
     "output_type": "stream",
     "text": [
      "100%|██████████| 1452/1452 [03:55<00:00,  6.16it/s]\n"
     ]
    },
    {
     "name": "stdout",
     "output_type": "stream",
     "text": [
      "Train Loss: 0.48803259549052175\n"
     ]
    },
    {
     "name": "stderr",
     "output_type": "stream",
     "text": [
      "100%|██████████| 726/726 [00:33<00:00, 21.79it/s]\n"
     ]
    },
    {
     "name": "stdout",
     "output_type": "stream",
     "text": [
      "OOD Loss: 4.482128013140899\n"
     ]
    },
    {
     "name": "stderr",
     "output_type": "stream",
     "text": [
      "100%|██████████| 418/418 [00:19<00:00, 20.99it/s]"
     ]
    },
    {
     "name": "stdout",
     "output_type": "stream",
     "text": [
      "ID Loss: 4.671805236042972\n"
     ]
    },
    {
     "name": "stderr",
     "output_type": "stream",
     "text": [
      "\n"
     ]
    }
   ],
   "source": [
    "NUM_EPOCHS = 3\n",
    "LEARNING_RATE = 0.0001\n",
    "MODEL_PATH = \"models\"\n",
    "MOMENTUM = 0.9\n",
    "\n",
    "model = Classifier(NUM_CLASSES)\n",
    "model.to(device)\n",
    "\n",
    "# summary = summary(model, (3, 224, 224))\n",
    "\n",
    "model_name = f\"ERM_{NUM_CLASSES}_{NUM_EPOCHS}_SGD_{LEARNING_RATE}_{MOMENTUM}_CrossEntropy_unet.pth\"\n",
    "save_name = os.path.join(MODEL_PATH, model_name)\n",
    "\n",
    "loss_fn = nn.CrossEntropyLoss()\n",
    "unet_loss_fn = nn.L1Loss()\n",
    "optimizer = torch.optim.SGD(model.parameters(), lr=LEARNING_RATE, momentum=MOMENTUM)\n",
    "unet_optimizer = torch.optim.Adam(model.unet.parameters(), lr=LEARNING_RATE/2)\n",
    "\n",
    "train_evolution = []\n",
    "val_evolution = []\n",
    "id_val_evolution = []\n",
    "best_loss = sys.float_info.max\n",
    "\n",
    "for epoch in range(NUM_EPOCHS):\n",
    "  print(f\"EPOCH {epoch + 1}:\")\n",
    "  # train\n",
    "  y_true, y_pred, metadata, loss = train_epoch(model, train_loader, loss_fn, optimizer, device, ood_val_loader, unet_loss_fn, unet_optimizer)\n",
    "  train_evolution.append(build_metrics_dict(dataset, y_true, y_pred, metadata, loss))\n",
    "  print(f\"Train Loss: {loss}\")\n",
    "\n",
    "  # validation\n",
    "  y_true, y_pred, metadata, loss = val_step(model, ood_val_loader, loss_fn, device)\n",
    "  val_evolution.append(build_metrics_dict(dataset, y_true, y_pred, metadata, loss))\n",
    "  print(f\"OOD Loss: {loss}\")\n",
    "\n",
    "  # # save by best ood loss\n",
    "  if loss < best_loss:\n",
    "    best_loss = loss\n",
    "    torch.save(model, save_name)\n",
    "\n",
    "  # in distribution validation\n",
    "  y_true, y_pred, metadata, loss = val_step(model, id_val_loader, loss_fn, device)\n",
    "  id_val_evolution.append(build_metrics_dict(dataset, y_true, y_pred, metadata, loss))\n",
    "  print(f\"ID Loss: {loss}\")\n",
    "\n"
   ]
  },
  {
   "cell_type": "markdown",
   "metadata": {},
   "source": [
    "<font size=\"6\">Plot loss and accuracy per region</font>"
   ]
  },
  {
   "cell_type": "code",
   "execution_count": 27,
   "metadata": {},
   "outputs": [
    {
     "data": {
      "image/png": "[encoded data removed]",
      "text/plain": [
       "<Figure size 432x288 with 1 Axes>"
      ]
     },
     "metadata": {
      "needs_background": "light"
     },
     "output_type": "display_data"
    },
    {
     "data": {
      "image/png": "[encoded data removed]",
      "text/plain": [
       "<Figure size 432x288 with 1 Axes>"
      ]
     },
     "metadata": {
      "needs_background": "light"
     },
     "output_type": "display_data"
    },
    {
     "data": {
      "image/png": "[encoded data removed]",
      "text/plain": [
       "<Figure size 432x288 with 1 Axes>"
      ]
     },
     "metadata": {
      "needs_background": "light"
     },
     "output_type": "display_data"
    }
   ],
   "source": [
    "metrics = list(train_evolution[0].keys())\n",
    "\n",
    "for metric in metrics:\n",
    "\tplot_graph(metric, train_evolution, val_evolution, id_val_evolution, len(train_evolution))"
   ]
  }
 ],
 "metadata": {
  "interpreter": {
   "hash": "ff1607acb86e9c06c30b27f75fb57134555e2c7e307c575a25fc991546615253"
  },
  "kernelspec": {
   "display_name": "Python 3.9.7 ('fmow')",
   "language": "python",
   "name": "python3"
  },
  "language_info": {
   "codemirror_mode": {
    "name": "ipython",
    "version": 3
   },
   "file_extension": ".py",
   "mimetype": "text/x-python",
   "name": "python",
   "nbconvert_exporter": "python",
   "pygments_lexer": "ipython3",
   "version": "3.8.10"
  },
  "orig_nbformat": 4
 },
 "nbformat": 4,
 "nbformat_minor": 2
}
