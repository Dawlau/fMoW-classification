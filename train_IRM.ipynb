{
 "cells": [
  {
   "cell_type": "code",
   "execution_count": null,
   "metadata": {},
   "outputs": [],
   "source": [
    "%load_ext autoreload\n",
    "%autoreload 2"
   ]
  },
  {
   "cell_type": "code",
   "execution_count": null,
   "metadata": {},
   "outputs": [],
   "source": [
    "from wilds import get_dataset\n",
    "from wilds.common.data_loaders import get_train_loader\n",
    "from wilds.common.grouper import CombinatorialGrouper\n",
    "import torchvision\n",
    "import torchvision.transforms as transforms\n",
    "import torch\n",
    "import torch.nn as nn\n",
    "from tqdm import tqdm\n",
    "from irm_helpers import *\n",
    "from sklearn.metrics import f1_score\n",
    "from sklearn.metrics import confusion_matrix\n",
    "import sys\n",
    "import os\n",
    "import time\n",
    "from Classifier import Classifier\n",
    "from SubsampledDataset import SubsampledDataset\n",
    "import math\n",
    "\n",
    "device = \"cuda\" if torch.cuda.is_available() else \"cpu\"\n",
    "# device = \"cpu\"\n",
    "BATCH_SIZE = 64\n",
    "torch.cuda.empty_cache()"
   ]
  },
  {
   "cell_type": "markdown",
   "metadata": {},
   "source": [
    "<font size=\"6\">Load train and validation data</font>"
   ]
  },
  {
   "cell_type": "code",
   "execution_count": null,
   "metadata": {},
   "outputs": [],
   "source": [
    "dataset = get_dataset(dataset=\"fmow\", download=False)\n",
    "grouper = CombinatorialGrouper(dataset, [\"region\"])\n",
    "\n",
    "train_data = dataset.get_subset(\n",
    "    \"train\",\n",
    "    transform=transforms.Compose(\n",
    "        [transforms.ToTensor()]\n",
    "    ),\n",
    ")\n",
    "\n",
    "ood_val_data = dataset.get_subset(\n",
    "    \"val\",\n",
    "    transform=transforms.Compose(\n",
    "        [transforms.ToTensor()]\n",
    "    ),\n",
    ")\n",
    "\n",
    "id_val_data = dataset.get_subset(\n",
    "    \"id_val\",\n",
    "    transform=transforms.Compose(\n",
    "        [transforms.ToTensor()]\n",
    "    ),\n",
    ")\n",
    "\n",
    "# train_dataset = SubsampledDataset(train_data, grouper)\n",
    "# ood_val_dataset = SubsampledDataset(ood_val_data, grouper)\n",
    "# id_val_dataset = SubsampledDataset(id_val_data, grouper)\n",
    "\n",
    "train_dataset = torch.load(\"subsampled_data/train.pt\")\n",
    "ood_val_dataset = torch.load(\"subsampled_data/ood_val.pt\")\n",
    "id_val_dataset = torch.load(\"subsampled_data/id_val.pt\")\n",
    "\n",
    "\n",
    "train_loader = get_train_loader(\"standard\", train_dataset, batch_size=BATCH_SIZE)\n",
    "ood_val_loader   = get_train_loader(\"standard\", ood_val_dataset, batch_size=BATCH_SIZE)\n",
    "id_val_loader    = get_train_loader(\"standard\", id_val_dataset, batch_size=BATCH_SIZE)\n"
   ]
  },
  {
   "cell_type": "code",
   "execution_count": null,
   "metadata": {},
   "outputs": [],
   "source": [
    "# torch.save(train_dataset, \"subsampled_data/train.pt\")\n",
    "# torch.save(ood_val_dataset, \"subsampled_data/ood_val.pt\")\n",
    "# torch.save(id_val_dataset, \"subsampled_data/id_val.pt\")\n",
    "# train_dataset = torch.load(\"subsampled_data/train.pt\")\n",
    "# train_loader = get_train_loader(\"standard\", train_dataset, batch_size=BATCH_SIZE)\n",
    "\n",
    "# for x, y, metadata in train_loader:\n",
    "# \tprint(x.shape)\n",
    "# \tbreak\n",
    "# print(len(id_val_loader))"
   ]
  },
  {
   "cell_type": "code",
   "execution_count": null,
   "metadata": {},
   "outputs": [],
   "source": [
    "NUM_CLASSES = 10\n",
    "# model = Classifier(NUM_CLASSES, use_pretrained=True, freeze_encoder=True)\n",
    "model = torch.load(\"models/IRM_10_23_SGD_1e-05_0.9_CrossEntropy_with_unet_with_selfsup_frozen.pth\")\n",
    "model.to(device)"
   ]
  },
  {
   "cell_type": "markdown",
   "metadata": {},
   "source": [
    "<font size=\"6\">Train and accumulate evaluation per epoch</font>"
   ]
  },
  {
   "cell_type": "code",
   "execution_count": null,
   "metadata": {},
   "outputs": [],
   "source": [
    "NUM_EPOCHS = 10\n",
    "LEARNING_RATE = 0.00001\n",
    "MODEL_PATH = \"models\"\n",
    "MOMENTUM = 0.9\n",
    "# 33 epochs so far\n",
    "\n",
    "model_name = f\"IRM_{NUM_CLASSES}_{NUM_EPOCHS}_SGD_{LEARNING_RATE}_{MOMENTUM}_CrossEntropy_with_unet_with_selfsup_frozen.pth\"\n",
    "save_name = os.path.join(MODEL_PATH, model_name)\n",
    "\n",
    "loss_fn = nn.CrossEntropyLoss(reduction=\"none\")\n",
    "optimizer = torch.optim.SGD(model.parameters(), lr=LEARNING_RATE, momentum=MOMENTUM)\n",
    "\n",
    "train_evolution = []\n",
    "val_evolution = []\n",
    "id_val_evolution = []\n",
    "best_loss = sys.float_info.max\n",
    "\n",
    "for epoch in range(NUM_EPOCHS):\n",
    "\tprint(f\"EPOCH {epoch + 1}:\")\n",
    "\t# train\n",
    "\ty_true, y_pred, metadata, loss = train_step(model, train_loader, loss_fn, optimizer, device)\n",
    "\ttrain_evolution.append(build_metrics_dict(dataset, y_true, y_pred, metadata, loss))\n",
    "\tprint(f\"Train Loss: {loss}\")\n",
    "\n",
    "\t# validation\n",
    "\ty_true, y_pred, metadata, loss = val_step(model, ood_val_loader, loss_fn, device)\n",
    "\tval_evolution.append(build_metrics_dict(dataset, y_true, y_pred, metadata, loss))\n",
    "\tprint(f\"OOD Loss: {loss}\")\n",
    "\n",
    "\t# save by best ood loss\n",
    "\tif loss < best_loss:\n",
    "\t\tbest_loss = loss\n",
    "\t\ttorch.save(model, save_name)\n",
    "\n",
    "\t# in distribution validation\n",
    "\ty_true, y_pred, metadata, loss = val_step(model, id_val_loader, loss_fn, device)\n",
    "\tid_val_evolution.append(build_metrics_dict(dataset, y_true, y_pred, metadata, loss))\n",
    "\tprint(f\"ID Loss: {loss}\")\n",
    "\n"
   ]
  },
  {
   "cell_type": "markdown",
   "metadata": {},
   "source": [
    "<font size=\"6\">Plot loss and accuracy per region</font>"
   ]
  },
  {
   "cell_type": "code",
   "execution_count": null,
   "metadata": {},
   "outputs": [],
   "source": [
    "metrics = list(train_evolution[0].keys())\n",
    "\n",
    "for metric in metrics:\n",
    "\tplot_graph(metric, train_evolution, val_evolution, id_val_evolution, NUM_EPOCHS)"
   ]
  }
 ],
 "metadata": {
  "interpreter": {
   "hash": "ff1607acb86e9c06c30b27f75fb57134555e2c7e307c575a25fc991546615253"
  },
  "kernelspec": {
   "display_name": "Python 3.9.7 ('fmow')",
   "language": "python",
   "name": "python3"
  },
  "language_info": {
   "codemirror_mode": {
    "name": "ipython",
    "version": 3
   },
   "file_extension": ".py",
   "mimetype": "text/x-python",
   "name": "python",
   "nbconvert_exporter": "python",
   "pygments_lexer": "ipython3",
   "version": "3.9.7"
  },
  "orig_nbformat": 4
 },
 "nbformat": 4,
 "nbformat_minor": 2
}
